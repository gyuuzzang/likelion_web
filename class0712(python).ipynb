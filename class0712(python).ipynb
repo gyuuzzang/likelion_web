{
 "cells": [
  {
   "cell_type": "code",
   "execution_count": 1,
   "metadata": {},
   "outputs": [
    {
     "name": "stdout",
     "output_type": "stream",
     "text": [
      "1 2 3 4 5\n"
     ]
    }
   ],
   "source": [
    "print(1,2,3,4,5, sep=\" \")"
   ]
  },
  {
   "cell_type": "markdown",
   "metadata": {},
   "source": [
    "### 입력\n",
    "* 입력: input()\n",
    "* 연산자: 나머지%. 몫//\n",
    "* 함수: return 값 2개 가능"
   ]
  },
  {
   "cell_type": "markdown",
   "metadata": {},
   "source": [
    "* 추가 append 그대로 추가\n",
    "* extend 요소로 추가\n",
    "* 제거 remoove\n",
    "* pop 마지막 꺼 없애기"
   ]
  },
  {
   "cell_type": "markdown",
   "metadata": {},
   "source": [
    "### 리스트와 튜플의 차이\n",
    "* 리스트 []\n",
    "* 값 추가 삭제 수정 가능\n",
    "* 튜플 ()\n",
    "* 불가"
   ]
  },
  {
   "cell_type": "markdown",
   "metadata": {},
   "source": [
    "### 파일 함수\n",
    "* open(___, 'mode') # 파일만들기  w, 파일 내용 추가 a, 파일 읽기 모드 r\n",
    " * 텍스트 파일 쓰기: wt, wb\n",
    "        \n",
    "* 전체 읽기 read()\n",
    "* 한줄씩 readline()\n",
    "* 리스트로 줄별로 readlines()"
   ]
  },
  {
   "cell_type": "markdown",
   "metadata": {},
   "source": [
    "### 클래스\n",
    "* 매번 함수를 써서 반복되는 부분을 틀로 만들어 사용한다.\n",
    "* def __init__(): #생성자 함수\n",
    "* 오버라이딩: 동일한 이름으로 상속해서 추가 변경"
   ]
  },
  {
   "cell_type": "markdown",
   "metadata": {},
   "source": [
    "* 예외처리: try except"
   ]
  },
  {
   "cell_type": "markdown",
   "metadata": {},
   "source": [
    "### 모듈\n",
    "* .py\n",
    "* 함수, 클래스, 변수가 포함될 수 있다.\n",
    "* import__"
   ]
  },
  {
   "cell_type": "markdown",
   "metadata": {},
   "source": [
    "### 모듈(라이브러리)\n",
    "* tkinter, pyQT"
   ]
  },
  {
   "cell_type": "markdown",
   "metadata": {},
   "source": [
    "#\n",
    "* HTML은 구조, CSS는 디자인, Javascript는 동작 실행"
   ]
  },
  {
   "cell_type": "markdown",
   "metadata": {},
   "source": [
    "# matplolib\n",
    "* plt.suptitle(): 전체제목\n",
    "* plt.xticks(): 눈금 값 지정\n",
    "* plt.xlim(): 값의 범위 지정"
   ]
  },
  {
   "cell_type": "code",
   "execution_count": null,
   "metadata": {},
   "outputs": [],
   "source": []
  }
 ],
 "metadata": {
  "kernelspec": {
   "display_name": "Python 3",
   "language": "python",
   "name": "python3"
  },
  "language_info": {
   "codemirror_mode": {
    "name": "ipython",
    "version": 3
   },
   "file_extension": ".py",
   "mimetype": "text/x-python",
   "name": "python",
   "nbconvert_exporter": "python",
   "pygments_lexer": "ipython3",
   "version": "3.8.5"
  }
 },
 "nbformat": 4,
 "nbformat_minor": 4
}
